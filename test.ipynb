{
 "cells": [
  {
   "cell_type": "code",
   "execution_count": 22,
   "id": "cee9c80c",
   "metadata": {},
   "outputs": [
    {
     "name": "stdout",
     "output_type": "stream",
     "text": [
      "The autoreload extension is already loaded. To reload it, use:\n",
      "  %reload_ext autoreload\n"
     ]
    }
   ],
   "source": [
    "# test the hyperparameters optimizer\n",
    "%load_ext autoreload\n",
    "%autoreload 2\n",
    "import model\n",
    "import bayesian_optimizer"
   ]
  },
  {
   "cell_type": "code",
   "execution_count": 23,
   "id": "edef748c",
   "metadata": {},
   "outputs": [],
   "source": [
    "bo_test = bayesian_optimizer.TuneBO(model.run, {'mini_batch_size':[50, 100], 'lr':[1e-1, 1e-2]}, [50, 1e-1])"
   ]
  },
  {
   "cell_type": "code",
   "execution_count": 24,
   "id": "b1a2ad21",
   "metadata": {},
   "outputs": [
    {
     "name": "stdout",
     "output_type": "stream",
     "text": [
      "[({'mini_batch_size': 50, 'lr': 0.1}, [0.3, 4.6, 464286]), ({'mini_batch_size': 100, 'lr': 0.1}, [0.8, 7.8, 774084])]\n"
     ]
    }
   ],
   "source": [
    "bo_test.make_step()\n",
    "print(bo_test.evaluation_history)"
   ]
  },
  {
   "cell_type": "code",
   "execution_count": null,
   "id": "bfe8c49d",
   "metadata": {},
   "outputs": [],
   "source": []
  }
 ],
 "metadata": {
  "kernelspec": {
   "display_name": "Python 3",
   "language": "python",
   "name": "python3"
  },
  "language_info": {
   "codemirror_mode": {
    "name": "ipython",
    "version": 3
   },
   "file_extension": ".py",
   "mimetype": "text/x-python",
   "name": "python",
   "nbconvert_exporter": "python",
   "pygments_lexer": "ipython3",
   "version": "3.8.5"
  }
 },
 "nbformat": 4,
 "nbformat_minor": 5
}
