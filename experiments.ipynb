{
 "cells": [
  {
   "cell_type": "code",
   "execution_count": 251,
   "id": "voluntary-nigeria",
   "metadata": {
    "tags": []
   },
   "outputs": [
    {
     "name": "stdout",
     "output_type": "stream",
     "text": [
      "The autoreload extension is already loaded. To reload it, use:\n",
      "  %reload_ext autoreload\n"
     ]
    }
   ],
   "source": [
    "import datetime\n",
    "\n",
    "from model import *\n",
    "from random_hpo import *\n",
    "from grid_search import *\n",
    "from experiment_helper import *\n",
    "from bayesian_optimizer import *\n",
    "\n",
    "%load_ext autoreload\n",
    "%autoreload 2"
   ]
  },
  {
   "cell_type": "markdown",
   "id": "alleged-bolivia",
   "metadata": {
    "tags": []
   },
   "source": [
    "# Optimization for Machine Learning"
   ]
  },
  {
   "cell_type": "markdown",
   "id": "desperate-rings",
   "metadata": {},
   "source": [
    "### Experiment 1: Gradient descent tuning"
   ]
  },
  {
   "cell_type": "code",
   "execution_count": 236,
   "id": "soviet-virus",
   "metadata": {},
   "outputs": [],
   "source": [
    "# experiment parameters\n",
    "seed = 0\n",
    "num_trials = 5\n",
    "variable_parameters = {'lr', 'momentum', 'mini_batch_size'}\n",
    "fixed_parameters = {'num_hidden', 'num_layers', 'num_epochs'}\n",
    "\n",
    "# fixed parameters\n",
    "num_layers = 2\n",
    "num_hidden = 100\n",
    "num_epochs = 100\n",
    "\n",
    "# variable parameters\n",
    "lr_min, lr_max = 0.0001, 0.1\n",
    "mini_batch_size_min, mini_batch_size_max = 1, 4096\n",
    "momentum_min, momentum_max = 0.0, 1.0"
   ]
  },
  {
   "cell_type": "markdown",
   "id": "golden-warning",
   "metadata": {},
   "source": [
    "#### Random search"
   ]
  },
  {
   "cell_type": "code",
   "execution_count": 258,
   "id": "understanding-saver",
   "metadata": {},
   "outputs": [],
   "source": [
    "parameters_range = {'lr': (lr_min, lr_max, 'discrete_loguniform_10'),\n",
    "                    'mini_batch_size': (mini_batch_size_min, mini_batch_size_max, 'discrete_loguniform_2'),\n",
    "                    'momentum': (momentum_min, momentum_max, 'uniform'),\n",
    "                    'num_hidden': (num_hidden, num_hidden, 'fixed'),\n",
    "                    'num_layers': (num_layers, num_layers, 'fixed'),\n",
    "                    'num_epochs': (num_epochs, num_epochs, 'fixed')}\n",
    "parameters = random_hyperparameters(parameters_range, num_trials, seed)"
   ]
  },
  {
   "cell_type": "code",
   "execution_count": 260,
   "id": "integrated-reproduction",
   "metadata": {},
   "outputs": [
    {
     "ename": "RuntimeError",
     "evalue": "start (0) + length (2048) exceeds dimension size (1000).",
     "output_type": "error",
     "traceback": [
      "\u001b[0;31m---------------------------------------------------------------------------\u001b[0m",
      "\u001b[0;31mRuntimeError\u001b[0m                              Traceback (most recent call last)",
      "\u001b[0;32m<ipython-input-260-ffe184d12b61>\u001b[0m in \u001b[0;36m<module>\u001b[0;34m\u001b[0m\n\u001b[0;32m----> 1\u001b[0;31m \u001b[0mtrain_data\u001b[0m\u001b[0;34m,\u001b[0m \u001b[0mtest_data\u001b[0m\u001b[0;34m,\u001b[0m \u001b[0mtime_data\u001b[0m \u001b[0;34m=\u001b[0m \u001b[0mrun_experiment\u001b[0m\u001b[0;34m(\u001b[0m\u001b[0mparameters\u001b[0m\u001b[0;34m)\u001b[0m\u001b[0;34m\u001b[0m\u001b[0;34m\u001b[0m\u001b[0m\n\u001b[0m",
      "\u001b[0;32m~/Desktop/DS MA6/Optimization for machine learning/OptML_course/Opt_ML_course_project/experiment_helper.py\u001b[0m in \u001b[0;36mrun_experiment\u001b[0;34m(parameters)\u001b[0m\n\u001b[1;32m     14\u001b[0m         train_error, test_error, time = run(model, sgd, \n\u001b[1;32m     15\u001b[0m                                             \u001b[0mmini_batch_size\u001b[0m\u001b[0;34m=\u001b[0m\u001b[0mparameters\u001b[0m\u001b[0;34m[\u001b[0m\u001b[0;34m'mini_batch_size'\u001b[0m\u001b[0;34m]\u001b[0m\u001b[0;34m[\u001b[0m\u001b[0mi\u001b[0m\u001b[0;34m]\u001b[0m\u001b[0;34m,\u001b[0m\u001b[0;34m\u001b[0m\u001b[0;34m\u001b[0m\u001b[0m\n\u001b[0;32m---> 16\u001b[0;31m                                             num_epochs=parameters['num_epochs'][i])\n\u001b[0m\u001b[1;32m     17\u001b[0m         \u001b[0mtrain_data\u001b[0m\u001b[0;34m.\u001b[0m\u001b[0mappend\u001b[0m\u001b[0;34m(\u001b[0m\u001b[0mtrain_error\u001b[0m\u001b[0;34m)\u001b[0m\u001b[0;34m\u001b[0m\u001b[0;34m\u001b[0m\u001b[0m\n\u001b[1;32m     18\u001b[0m         \u001b[0mtest_data\u001b[0m\u001b[0;34m.\u001b[0m\u001b[0mappend\u001b[0m\u001b[0;34m(\u001b[0m\u001b[0mtest_error\u001b[0m\u001b[0;34m)\u001b[0m\u001b[0;34m\u001b[0m\u001b[0;34m\u001b[0m\u001b[0m\n",
      "\u001b[0;32m~/Desktop/DS MA6/Optimization for machine learning/OptML_course/Opt_ML_course_project/model.py\u001b[0m in \u001b[0;36mrun\u001b[0;34m(model, optimizer, mini_batch_size, num_epochs)\u001b[0m\n\u001b[1;32m     99\u001b[0m     \u001b[0mstart\u001b[0m \u001b[0;34m=\u001b[0m \u001b[0mdatetime\u001b[0m\u001b[0;34m.\u001b[0m\u001b[0mdatetime\u001b[0m\u001b[0;34m.\u001b[0m\u001b[0mnow\u001b[0m\u001b[0;34m(\u001b[0m\u001b[0;34m)\u001b[0m\u001b[0;34m\u001b[0m\u001b[0;34m\u001b[0m\u001b[0m\n\u001b[1;32m    100\u001b[0m     \u001b[0mmodel\u001b[0m\u001b[0;34m.\u001b[0m\u001b[0mtrain\u001b[0m\u001b[0;34m(\u001b[0m\u001b[0;34m)\u001b[0m\u001b[0;34m\u001b[0m\u001b[0;34m\u001b[0m\u001b[0m\n\u001b[0;32m--> 101\u001b[0;31m     \u001b[0mtrain_model\u001b[0m\u001b[0;34m(\u001b[0m\u001b[0mmodel\u001b[0m\u001b[0;34m,\u001b[0m \u001b[0moptimizer\u001b[0m\u001b[0;34m,\u001b[0m \u001b[0mtrain_input\u001b[0m\u001b[0;34m,\u001b[0m \u001b[0mtrain_target\u001b[0m\u001b[0;34m,\u001b[0m \u001b[0mmini_batch_size\u001b[0m\u001b[0;34m=\u001b[0m\u001b[0mmini_batch_size\u001b[0m\u001b[0;34m,\u001b[0m \u001b[0mnum_epochs\u001b[0m\u001b[0;34m=\u001b[0m\u001b[0mnum_epochs\u001b[0m\u001b[0;34m)\u001b[0m\u001b[0;34m\u001b[0m\u001b[0;34m\u001b[0m\u001b[0m\n\u001b[0m\u001b[1;32m    102\u001b[0m     \u001b[0mexec_time\u001b[0m \u001b[0;34m=\u001b[0m \u001b[0;34m(\u001b[0m\u001b[0mdatetime\u001b[0m\u001b[0;34m.\u001b[0m\u001b[0mdatetime\u001b[0m\u001b[0;34m.\u001b[0m\u001b[0mnow\u001b[0m\u001b[0;34m(\u001b[0m\u001b[0;34m)\u001b[0m \u001b[0;34m-\u001b[0m \u001b[0mstart\u001b[0m\u001b[0;34m)\u001b[0m\u001b[0;34m.\u001b[0m\u001b[0mmicroseconds\u001b[0m\u001b[0;34m\u001b[0m\u001b[0;34m\u001b[0m\u001b[0m\n\u001b[1;32m    103\u001b[0m \u001b[0;34m\u001b[0m\u001b[0m\n",
      "\u001b[0;32m~/Desktop/DS MA6/Optimization for machine learning/OptML_course/Opt_ML_course_project/model.py\u001b[0m in \u001b[0;36mtrain_model\u001b[0;34m(model, optimizer, train_input, train_target, mini_batch_size, num_epochs)\u001b[0m\n\u001b[1;32m     42\u001b[0m         \u001b[0;32mfor\u001b[0m \u001b[0mb\u001b[0m \u001b[0;32min\u001b[0m \u001b[0mrange\u001b[0m\u001b[0;34m(\u001b[0m\u001b[0;36m0\u001b[0m\u001b[0;34m,\u001b[0m \u001b[0mtrain_input\u001b[0m\u001b[0;34m.\u001b[0m\u001b[0msize\u001b[0m\u001b[0;34m(\u001b[0m\u001b[0;36m0\u001b[0m\u001b[0;34m)\u001b[0m\u001b[0;34m,\u001b[0m \u001b[0mmini_batch_size\u001b[0m\u001b[0;34m)\u001b[0m\u001b[0;34m:\u001b[0m\u001b[0;34m\u001b[0m\u001b[0;34m\u001b[0m\u001b[0m\n\u001b[1;32m     43\u001b[0m             \u001b[0moptimizer\u001b[0m\u001b[0;34m.\u001b[0m\u001b[0mzero_grad\u001b[0m\u001b[0;34m(\u001b[0m\u001b[0;34m)\u001b[0m\u001b[0;34m\u001b[0m\u001b[0;34m\u001b[0m\u001b[0m\n\u001b[0;32m---> 44\u001b[0;31m             \u001b[0moutput\u001b[0m \u001b[0;34m=\u001b[0m \u001b[0mmodel\u001b[0m\u001b[0;34m(\u001b[0m\u001b[0mtrain_input\u001b[0m\u001b[0;34m.\u001b[0m\u001b[0mnarrow\u001b[0m\u001b[0;34m(\u001b[0m\u001b[0;36m0\u001b[0m\u001b[0;34m,\u001b[0m \u001b[0mb\u001b[0m\u001b[0;34m,\u001b[0m \u001b[0mmini_batch_size\u001b[0m\u001b[0;34m)\u001b[0m\u001b[0;34m)\u001b[0m\u001b[0;34m\u001b[0m\u001b[0;34m\u001b[0m\u001b[0m\n\u001b[0m\u001b[1;32m     45\u001b[0m             \u001b[0mloss\u001b[0m \u001b[0;34m=\u001b[0m \u001b[0mcriterion\u001b[0m\u001b[0;34m(\u001b[0m\u001b[0moutput\u001b[0m\u001b[0;34m,\u001b[0m \u001b[0mtrain_target\u001b[0m\u001b[0;34m.\u001b[0m\u001b[0mnarrow\u001b[0m\u001b[0;34m(\u001b[0m\u001b[0;36m0\u001b[0m\u001b[0;34m,\u001b[0m \u001b[0mb\u001b[0m\u001b[0;34m,\u001b[0m \u001b[0mmini_batch_size\u001b[0m\u001b[0;34m)\u001b[0m\u001b[0;34m)\u001b[0m\u001b[0;34m\u001b[0m\u001b[0;34m\u001b[0m\u001b[0m\n\u001b[1;32m     46\u001b[0m             \u001b[0macc_loss\u001b[0m \u001b[0;34m=\u001b[0m \u001b[0macc_loss\u001b[0m \u001b[0;34m+\u001b[0m \u001b[0mloss\u001b[0m\u001b[0;34m.\u001b[0m\u001b[0mitem\u001b[0m\u001b[0;34m(\u001b[0m\u001b[0;34m)\u001b[0m\u001b[0;34m\u001b[0m\u001b[0;34m\u001b[0m\u001b[0m\n",
      "\u001b[0;31mRuntimeError\u001b[0m: start (0) + length (2048) exceeds dimension size (1000)."
     ]
    }
   ],
   "source": [
    "train_data, test_data, time_data = run_experiment(parameters)"
   ]
  },
  {
   "cell_type": "code",
   "execution_count": 261,
   "id": "interpreted-mercury",
   "metadata": {},
   "outputs": [
    {
     "data": {
      "image/png": "[encoded data removed]",
      "text/plain": [
       "<Figure size 432x288 with 1 Axes>"
      ]
     },
     "metadata": {
      "needs_background": "light"
     },
     "output_type": "display_data"
    }
   ],
   "source": [
    "visualize_experiment(train_data, test_data)"
   ]
  },
  {
   "cell_type": "markdown",
   "id": "married-object",
   "metadata": {},
   "source": [
    "#### Grid search"
   ]
  },
  {
   "cell_type": "code",
   "execution_count": 262,
   "id": "listed-clock",
   "metadata": {},
   "outputs": [],
   "source": [
    "parameters_range = {'lr': (lr_min, lr_max),\n",
    "                    'mini_batch_size': (mini_batch_size_min, mini_batch_size_max),\n",
    "                    'momentum': (momentum_min, momentum_max),\n",
    "                    'num_hidden': (num_hidden, num_hidden),\n",
    "                    'num_layers': (num_layers, num_layers),\n",
    "                    'num_epochs': (num_epochs, num_epochs)}\n",
    "parameters = grid_hyperparameters(parameters_range, num_trials)"
   ]
  },
  {
   "cell_type": "code",
   "execution_count": 263,
   "id": "placed-reputation",
   "metadata": {},
   "outputs": [
    {
     "ename": "RuntimeError",
     "evalue": "start (820) + length (820) exceeds dimension size (1000).",
     "output_type": "error",
     "traceback": [
      "\u001b[0;31m---------------------------------------------------------------------------\u001b[0m",
      "\u001b[0;31mRuntimeError\u001b[0m                              Traceback (most recent call last)",
      "\u001b[0;32m<ipython-input-263-ffe184d12b61>\u001b[0m in \u001b[0;36m<module>\u001b[0;34m\u001b[0m\n\u001b[0;32m----> 1\u001b[0;31m \u001b[0mtrain_data\u001b[0m\u001b[0;34m,\u001b[0m \u001b[0mtest_data\u001b[0m\u001b[0;34m,\u001b[0m \u001b[0mtime_data\u001b[0m \u001b[0;34m=\u001b[0m \u001b[0mrun_experiment\u001b[0m\u001b[0;34m(\u001b[0m\u001b[0mparameters\u001b[0m\u001b[0;34m)\u001b[0m\u001b[0;34m\u001b[0m\u001b[0;34m\u001b[0m\u001b[0m\n\u001b[0m",
      "\u001b[0;32m~/Desktop/DS MA6/Optimization for machine learning/OptML_course/Opt_ML_course_project/experiment_helper.py\u001b[0m in \u001b[0;36mrun_experiment\u001b[0;34m(parameters)\u001b[0m\n\u001b[1;32m     14\u001b[0m         train_error, test_error, time = run(model, sgd, \n\u001b[1;32m     15\u001b[0m                                             \u001b[0mmini_batch_size\u001b[0m\u001b[0;34m=\u001b[0m\u001b[0mparameters\u001b[0m\u001b[0;34m[\u001b[0m\u001b[0;34m'mini_batch_size'\u001b[0m\u001b[0;34m]\u001b[0m\u001b[0;34m[\u001b[0m\u001b[0mi\u001b[0m\u001b[0;34m]\u001b[0m\u001b[0;34m,\u001b[0m\u001b[0;34m\u001b[0m\u001b[0;34m\u001b[0m\u001b[0m\n\u001b[0;32m---> 16\u001b[0;31m                                             num_epochs=parameters['num_epochs'][i])\n\u001b[0m\u001b[1;32m     17\u001b[0m         \u001b[0mtrain_data\u001b[0m\u001b[0;34m.\u001b[0m\u001b[0mappend\u001b[0m\u001b[0;34m(\u001b[0m\u001b[0mtrain_error\u001b[0m\u001b[0;34m)\u001b[0m\u001b[0;34m\u001b[0m\u001b[0;34m\u001b[0m\u001b[0m\n\u001b[1;32m     18\u001b[0m         \u001b[0mtest_data\u001b[0m\u001b[0;34m.\u001b[0m\u001b[0mappend\u001b[0m\u001b[0;34m(\u001b[0m\u001b[0mtest_error\u001b[0m\u001b[0;34m)\u001b[0m\u001b[0;34m\u001b[0m\u001b[0;34m\u001b[0m\u001b[0m\n",
      "\u001b[0;32m~/Desktop/DS MA6/Optimization for machine learning/OptML_course/Opt_ML_course_project/model.py\u001b[0m in \u001b[0;36mrun\u001b[0;34m(model, optimizer, mini_batch_size, num_epochs)\u001b[0m\n\u001b[1;32m     99\u001b[0m     \u001b[0mstart\u001b[0m \u001b[0;34m=\u001b[0m \u001b[0mdatetime\u001b[0m\u001b[0;34m.\u001b[0m\u001b[0mdatetime\u001b[0m\u001b[0;34m.\u001b[0m\u001b[0mnow\u001b[0m\u001b[0;34m(\u001b[0m\u001b[0;34m)\u001b[0m\u001b[0;34m\u001b[0m\u001b[0;34m\u001b[0m\u001b[0m\n\u001b[1;32m    100\u001b[0m     \u001b[0mmodel\u001b[0m\u001b[0;34m.\u001b[0m\u001b[0mtrain\u001b[0m\u001b[0;34m(\u001b[0m\u001b[0;34m)\u001b[0m\u001b[0;34m\u001b[0m\u001b[0;34m\u001b[0m\u001b[0m\n\u001b[0;32m--> 101\u001b[0;31m     \u001b[0mtrain_model\u001b[0m\u001b[0;34m(\u001b[0m\u001b[0mmodel\u001b[0m\u001b[0;34m,\u001b[0m \u001b[0moptimizer\u001b[0m\u001b[0;34m,\u001b[0m \u001b[0mtrain_input\u001b[0m\u001b[0;34m,\u001b[0m \u001b[0mtrain_target\u001b[0m\u001b[0;34m,\u001b[0m \u001b[0mmini_batch_size\u001b[0m\u001b[0;34m=\u001b[0m\u001b[0mmini_batch_size\u001b[0m\u001b[0;34m,\u001b[0m \u001b[0mnum_epochs\u001b[0m\u001b[0;34m=\u001b[0m\u001b[0mnum_epochs\u001b[0m\u001b[0;34m)\u001b[0m\u001b[0;34m\u001b[0m\u001b[0;34m\u001b[0m\u001b[0m\n\u001b[0m\u001b[1;32m    102\u001b[0m     \u001b[0mexec_time\u001b[0m \u001b[0;34m=\u001b[0m \u001b[0;34m(\u001b[0m\u001b[0mdatetime\u001b[0m\u001b[0;34m.\u001b[0m\u001b[0mdatetime\u001b[0m\u001b[0;34m.\u001b[0m\u001b[0mnow\u001b[0m\u001b[0;34m(\u001b[0m\u001b[0;34m)\u001b[0m \u001b[0;34m-\u001b[0m \u001b[0mstart\u001b[0m\u001b[0;34m)\u001b[0m\u001b[0;34m.\u001b[0m\u001b[0mmicroseconds\u001b[0m\u001b[0;34m\u001b[0m\u001b[0;34m\u001b[0m\u001b[0m\n\u001b[1;32m    103\u001b[0m \u001b[0;34m\u001b[0m\u001b[0m\n",
      "\u001b[0;32m~/Desktop/DS MA6/Optimization for machine learning/OptML_course/Opt_ML_course_project/model.py\u001b[0m in \u001b[0;36mtrain_model\u001b[0;34m(model, optimizer, train_input, train_target, mini_batch_size, num_epochs)\u001b[0m\n\u001b[1;32m     42\u001b[0m         \u001b[0;32mfor\u001b[0m \u001b[0mb\u001b[0m \u001b[0;32min\u001b[0m \u001b[0mrange\u001b[0m\u001b[0;34m(\u001b[0m\u001b[0;36m0\u001b[0m\u001b[0;34m,\u001b[0m \u001b[0mtrain_input\u001b[0m\u001b[0;34m.\u001b[0m\u001b[0msize\u001b[0m\u001b[0;34m(\u001b[0m\u001b[0;36m0\u001b[0m\u001b[0;34m)\u001b[0m\u001b[0;34m,\u001b[0m \u001b[0mmini_batch_size\u001b[0m\u001b[0;34m)\u001b[0m\u001b[0;34m:\u001b[0m\u001b[0;34m\u001b[0m\u001b[0;34m\u001b[0m\u001b[0m\n\u001b[1;32m     43\u001b[0m             \u001b[0moptimizer\u001b[0m\u001b[0;34m.\u001b[0m\u001b[0mzero_grad\u001b[0m\u001b[0;34m(\u001b[0m\u001b[0;34m)\u001b[0m\u001b[0;34m\u001b[0m\u001b[0;34m\u001b[0m\u001b[0m\n\u001b[0;32m---> 44\u001b[0;31m             \u001b[0moutput\u001b[0m \u001b[0;34m=\u001b[0m \u001b[0mmodel\u001b[0m\u001b[0;34m(\u001b[0m\u001b[0mtrain_input\u001b[0m\u001b[0;34m.\u001b[0m\u001b[0mnarrow\u001b[0m\u001b[0;34m(\u001b[0m\u001b[0;36m0\u001b[0m\u001b[0;34m,\u001b[0m \u001b[0mb\u001b[0m\u001b[0;34m,\u001b[0m \u001b[0mmini_batch_size\u001b[0m\u001b[0;34m)\u001b[0m\u001b[0;34m)\u001b[0m\u001b[0;34m\u001b[0m\u001b[0;34m\u001b[0m\u001b[0m\n\u001b[0m\u001b[1;32m     45\u001b[0m             \u001b[0mloss\u001b[0m \u001b[0;34m=\u001b[0m \u001b[0mcriterion\u001b[0m\u001b[0;34m(\u001b[0m\u001b[0moutput\u001b[0m\u001b[0;34m,\u001b[0m \u001b[0mtrain_target\u001b[0m\u001b[0;34m.\u001b[0m\u001b[0mnarrow\u001b[0m\u001b[0;34m(\u001b[0m\u001b[0;36m0\u001b[0m\u001b[0;34m,\u001b[0m \u001b[0mb\u001b[0m\u001b[0;34m,\u001b[0m \u001b[0mmini_batch_size\u001b[0m\u001b[0;34m)\u001b[0m\u001b[0;34m)\u001b[0m\u001b[0;34m\u001b[0m\u001b[0;34m\u001b[0m\u001b[0m\n\u001b[1;32m     46\u001b[0m             \u001b[0macc_loss\u001b[0m \u001b[0;34m=\u001b[0m \u001b[0macc_loss\u001b[0m \u001b[0;34m+\u001b[0m \u001b[0mloss\u001b[0m\u001b[0;34m.\u001b[0m\u001b[0mitem\u001b[0m\u001b[0;34m(\u001b[0m\u001b[0;34m)\u001b[0m\u001b[0;34m\u001b[0m\u001b[0;34m\u001b[0m\u001b[0m\n",
      "\u001b[0;31mRuntimeError\u001b[0m: start (820) + length (820) exceeds dimension size (1000)."
     ]
    }
   ],
   "source": [
    "train_data, test_data, time_data = run_experiment(parameters)"
   ]
  },
  {
   "cell_type": "code",
   "execution_count": null,
   "id": "listed-salem",
   "metadata": {},
   "outputs": [],
   "source": [
    "visualize_experiment(train_data, test_data)"
   ]
  },
  {
   "cell_type": "markdown",
   "id": "unable-climb",
   "metadata": {},
   "source": [
    "#### Bayesian optimisation"
   ]
  },
  {
   "cell_type": "code",
   "execution_count": null,
   "id": "requested-contrary",
   "metadata": {},
   "outputs": [],
   "source": []
  },
  {
   "cell_type": "markdown",
   "id": "common-english",
   "metadata": {},
   "source": [
    "### Experiment 2: Model architecture tuning"
   ]
  },
  {
   "cell_type": "code",
   "execution_count": 289,
   "id": "backed-bouquet",
   "metadata": {},
   "outputs": [],
   "source": [
    "# experiment parameters\n",
    "seed = 0\n",
    "num_trials = 5\n",
    "variable_parameters = {'num_hidden', 'num_layers', 'num_epochs'}\n",
    "fixed_parameters = {'lr', 'momentum', 'mini_batch_size'}\n",
    "\n",
    "# fixed parameters\n",
    "lr = 0.1\n",
    "momentum = 0.9\n",
    "mini_batch_size = 100\n",
    "\n",
    "# variable parameters\n",
    "num_hidden_min, num_hidden_max = 10, 1000\n",
    "num_layers_min, num_layers_max = 1, 4\n",
    "num_epochs_min, num_epochs_max = 10, 1000"
   ]
  },
  {
   "cell_type": "markdown",
   "id": "acute-class",
   "metadata": {},
   "source": [
    "#### Random search"
   ]
  },
  {
   "cell_type": "code",
   "execution_count": 290,
   "id": "crazy-canberra",
   "metadata": {},
   "outputs": [],
   "source": [
    "parameters_range = {'lr': (lr, lr, 'fixed'),\n",
    "                    'mini_batch_size': (mini_batch_size, mini_batch_size, 'fixed'),\n",
    "                    'momentum': (momentum, momentum, 'fixed'),\n",
    "                    'num_hidden': (num_hidden_min, num_hidden_max, 'discrete'),\n",
    "                    'num_layers': (num_layers_min, num_layers_max, 'discrete'),\n",
    "                    'num_epochs': (num_epochs_min, num_epochs_max, 'discrete')}\n",
    "parameters = random_hyperparameters(parameters_range, num_trials, seed)"
   ]
  },
  {
   "cell_type": "code",
   "execution_count": 291,
   "id": "prime-generation",
   "metadata": {},
   "outputs": [],
   "source": [
    "train_data, test_data, time_data = run_experiment(parameters)"
   ]
  },
  {
   "cell_type": "code",
   "execution_count": 292,
   "id": "vocal-being",
   "metadata": {},
   "outputs": [
    {
     "data": {
      "image/png": "[encoded data removed]",
      "text/plain": [
       "<Figure size 432x288 with 1 Axes>"
      ]
     },
     "metadata": {
      "needs_background": "light"
     },
     "output_type": "display_data"
    }
   ],
   "source": [
    "visualize_experiment(train_data, test_data)"
   ]
  },
  {
   "cell_type": "markdown",
   "id": "standing-germany",
   "metadata": {},
   "source": [
    "#### Grid search"
   ]
  },
  {
   "cell_type": "code",
   "execution_count": 228,
   "id": "usual-colon",
   "metadata": {},
   "outputs": [],
   "source": [
    "parameters_range = {'lr': (lr, lr),\n",
    "                    'mini_batch_size': (mini_batch_size, mini_batch_size),\n",
    "                    'momentum': (momentum, momentum),\n",
    "                    'num_hidden': (num_hidden_min, num_hidden_max),\n",
    "                    'num_layers': (num_layers_min, num_layers_max),\n",
    "                    'num_epochs': (num_epochs_min, num_epochs_max)}\n",
    "parameters = grid_hyperparam(parameters_range, num_trials)"
   ]
  },
  {
   "cell_type": "code",
   "execution_count": 229,
   "id": "integral-consumer",
   "metadata": {},
   "outputs": [],
   "source": [
    "train_data, test_data, time_data = run_experiment(parameters)"
   ]
  },
  {
   "cell_type": "code",
   "execution_count": 306,
   "id": "impaired-sessions",
   "metadata": {},
   "outputs": [
    {
     "data": {
      "image/png": "[encoded data removed]",
      "text/plain": [
       "<Figure size 432x288 with 2 Axes>"
      ]
     },
     "metadata": {
      "needs_background": "light"
     },
     "output_type": "display_data"
    }
   ],
   "source": [
    "visualize_experiment(train_data, test_data, time_data)"
   ]
  },
  {
   "cell_type": "markdown",
   "id": "impressive-break",
   "metadata": {},
   "source": [
    "#### Bayesian optimisation"
   ]
  },
  {
   "cell_type": "code",
   "execution_count": null,
   "id": "spanish-retrieval",
   "metadata": {},
   "outputs": [],
   "source": []
  },
  {
   "cell_type": "markdown",
   "id": "preliminary-engineering",
   "metadata": {},
   "source": [
    "### Experiment 3: Complete tuning"
   ]
  },
  {
   "cell_type": "code",
   "execution_count": null,
   "id": "polyphonic-apparel",
   "metadata": {},
   "outputs": [],
   "source": []
  }
 ],
 "metadata": {
  "kernelspec": {
   "display_name": "venv-oml",
   "language": "python",
   "name": "venv-oml"
  },
  "language_info": {
   "codemirror_mode": {
    "name": "ipython",
    "version": 3
   },
   "file_extension": ".py",
   "mimetype": "text/x-python",
   "name": "python",
   "nbconvert_exporter": "python",
   "pygments_lexer": "ipython3",
   "version": "3.7.9"
  }
 },
 "nbformat": 4,
 "nbformat_minor": 5
}
