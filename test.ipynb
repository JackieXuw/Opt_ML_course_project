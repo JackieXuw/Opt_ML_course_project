{
 "cells": [
  {
   "cell_type": "code",
   "execution_count": 3,
   "id": "sustained-grass",
   "metadata": {},
   "outputs": [
    {
     "name": "stdout",
     "output_type": "stream",
     "text": [
      "The autoreload extension is already loaded. To reload it, use:\n",
      "  %reload_ext autoreload\n"
     ]
    }
   ],
   "source": [
    "# test the hyperparameters optimizer\n",
    "%load_ext autoreload\n",
    "%autoreload 2\n",
    "import model\n",
    "import bayesian_optimizer"
   ]
  },
  {
   "cell_type": "code",
   "execution_count": 10,
   "id": "essential-smart",
   "metadata": {},
   "outputs": [],
   "source": [
    "bo_test = bayesian_optimizer.TuneBO(model.run, {'mini_batch_size':[50, 100], 'lr':[1e-1, 1e-2]}, [50, 1e-1])"
   ]
  },
  {
   "cell_type": "code",
   "execution_count": 17,
   "id": "optical-setup",
   "metadata": {},
   "outputs": [
    {
     "name": "stdout",
     "output_type": "stream",
     "text": [
      "[({'mini_batch_size': 50, 'lr': 0.1}, [2, 50, 707820]), ({'mini_batch_size': 100, 'lr': 0.1}, [10, 77, 544116]), ({'mini_batch_size': 100, 'lr': 0.1}, [13, 68, 580719]), ({'mini_batch_size': 100, 'lr': 0.1}, [16, 75, 782574]), ({'mini_batch_size': 50, 'lr': 0.01}, [87, 165, 834842])]\n"
     ]
    },
    {
     "name": "stderr",
     "output_type": "stream",
     "text": [
      " /home/wenjie/miniconda3/lib/python3.8/site-packages/GPy/kern/src/stationary.py:243: RuntimeWarning:invalid value encountered in true_divide\n",
      " /home/wenjie/miniconda3/lib/python3.8/site-packages/GPy/kern/src/stationary.py:137: RuntimeWarning:overflow encountered in square\n",
      " /home/wenjie/miniconda3/lib/python3.8/site-packages/GPy/kern/src/stationary.py:138: RuntimeWarning:invalid value encountered in add\n"
     ]
    }
   ],
   "source": [
    "bo_test.make_step()\n",
    "print(bo_test.evaluation_history)"
   ]
  },
  {
   "cell_type": "code",
   "execution_count": null,
   "id": "chinese-reviewer",
   "metadata": {},
   "outputs": [],
   "source": []
  }
 ],
 "metadata": {
  "kernelspec": {
   "display_name": "Python 3",
   "language": "python",
   "name": "python3"
  },
  "language_info": {
   "codemirror_mode": {
    "name": "ipython",
    "version": 3
   },
   "file_extension": ".py",
   "mimetype": "text/x-python",
   "name": "python",
   "nbconvert_exporter": "python",
   "pygments_lexer": "ipython3",
   "version": "3.7.9"
  }
 },
 "nbformat": 4,
 "nbformat_minor": 5
}
